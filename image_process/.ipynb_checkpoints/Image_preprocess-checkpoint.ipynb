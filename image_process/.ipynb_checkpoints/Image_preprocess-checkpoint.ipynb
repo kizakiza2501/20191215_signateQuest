{
 "cells": [
  {
   "cell_type": "markdown",
   "metadata": {},
   "source": [
    "# 画像処理の基礎\n",
    "1. 画像操作をしてみよう\n",
    "1. フィルタを学んでみよう"
   ]
  },
  {
   "cell_type": "markdown",
   "metadata": {},
   "source": [
    "### おまじない\n",
    "- scikit-imageのライブラリをインポートします\n",
    "    - `from skimage import io` : 主に画像読み込み関連\n",
    "    - `from skimage import transform` ： 画像操作関連"
   ]
  },
  {
   "cell_type": "code",
   "execution_count": null,
   "metadata": {},
   "outputs": [],
   "source": [
    "import numpy as np\n",
    "from matplotlib import pyplot as plt\n",
    "%matplotlib inline\n",
    "\n",
    "from skimage import io\n",
    "from skimage import transform"
   ]
  },
  {
   "cell_type": "markdown",
   "metadata": {},
   "source": [
    "### 画像を読み込んでみよう\n",
    "- io.imread関数を使います"
   ]
  },
  {
   "cell_type": "code",
   "execution_count": null,
   "metadata": {},
   "outputs": [],
   "source": [
    "img = io.imread(\"./cat.jpg\")"
   ]
  },
  {
   "cell_type": "code",
   "execution_count": null,
   "metadata": {
    "scrolled": true
   },
   "outputs": [],
   "source": [
    "img"
   ]
  },
  {
   "cell_type": "markdown",
   "metadata": {},
   "source": [
    "### 画像をnotebook上に表示してみよう\n",
    "- plt.imshow関数を使います"
   ]
  },
  {
   "cell_type": "code",
   "execution_count": null,
   "metadata": {},
   "outputs": [],
   "source": [
    "plt.imshow(img)"
   ]
  },
  {
   "cell_type": "markdown",
   "metadata": {},
   "source": [
    "### 画像の大きさを確かめてみよう"
   ]
  },
  {
   "cell_type": "code",
   "execution_count": null,
   "metadata": {},
   "outputs": [],
   "source": [
    "img.shape"
   ]
  },
  {
   "cell_type": "markdown",
   "metadata": {},
   "source": [
    "### 一番左上の要素の値（画素値）を取り出そう\n",
    "- 縦軸の位置=0,横軸の位置=0のピクセルを抽出し、変数img_one_pxに代入しよう"
   ]
  },
  {
   "cell_type": "code",
   "execution_count": null,
   "metadata": {},
   "outputs": [],
   "source": [
    "img_one_px = img[0,0,:]\n",
    "img_one_px"
   ]
  },
  {
   "cell_type": "code",
   "execution_count": null,
   "metadata": {},
   "outputs": [],
   "source": [
    "img_one_px.shape"
   ]
  },
  {
   "cell_type": "markdown",
   "metadata": {},
   "source": [
    "### 取り出した色を表示しよう\n",
    "- plt.imshow関数でRGB画像を表示する為には(縦軸,横軸,3)という形でなければならない\n",
    "- 今回は1ピクセルだけなので、縦軸の大きさ=1,横軸の大きさ=1、つまり(1,1,3)に変形すればいい\n",
    "- 変形にはreshape関数を使い、変形した結果を変数oneに代入し、oneを表示しましょう"
   ]
  },
  {
   "cell_type": "code",
   "execution_count": null,
   "metadata": {},
   "outputs": [],
   "source": [
    "one = img_one_px.reshape(1,1,3)\n",
    "one.shape"
   ]
  },
  {
   "cell_type": "code",
   "execution_count": null,
   "metadata": {},
   "outputs": [],
   "source": [
    "plt.imshow(one)"
   ]
  },
  {
   "cell_type": "markdown",
   "metadata": {},
   "source": [
    "### RGB情報を取り出してみよう\n",
    "- 画像全体のR値を取り出して変数rに代入しよう\n",
    "- 変数rを使い、R値の最大値と最小値も検出してみよう\n",
    "- 最大値・最小値はそれぞれmax関数とmin関数を使うことで求めることができます\n",
    "- 更に、変数rの要素全てを0.5倍し、変数r2に代入しよう\n",
    "    - numpyの配列では、「+,-,*,/」の算術記号を使うことで、配列内要素を一括で計算することができます"
   ]
  },
  {
   "cell_type": "code",
   "execution_count": null,
   "metadata": {},
   "outputs": [],
   "source": [
    "r = img[:,:,0]\n",
    "r"
   ]
  },
  {
   "cell_type": "code",
   "execution_count": null,
   "metadata": {},
   "outputs": [],
   "source": [
    "r.max()"
   ]
  },
  {
   "cell_type": "code",
   "execution_count": null,
   "metadata": {},
   "outputs": [],
   "source": [
    "r.min()"
   ]
  },
  {
   "cell_type": "code",
   "execution_count": null,
   "metadata": {},
   "outputs": [],
   "source": [
    "r2 = r*0.5"
   ]
  },
  {
   "cell_type": "code",
   "execution_count": null,
   "metadata": {},
   "outputs": [],
   "source": [
    "r2"
   ]
  },
  {
   "cell_type": "markdown",
   "metadata": {},
   "source": [
    "### 画像を切り出してみよう\n",
    "- 具体的には縦軸は100～300まで、横軸は200～400までを取り出し、結果を変数img2に代入しよう\n",
    "- その後、img2をimshow関数を使って表示しよう"
   ]
  },
  {
   "cell_type": "code",
   "execution_count": null,
   "metadata": {},
   "outputs": [],
   "source": [
    "img2 = img[100:300,200:400,:]\n",
    "plt.imshow(img2)"
   ]
  },
  {
   "cell_type": "markdown",
   "metadata": {},
   "source": [
    "### 二つの画像を並べて表示してみよう\n",
    "- 複数の画像を一片に表示する時にはplt.subplot関数を使い、下記のように記述します\n",
    "- `plt.subplot(縦列,横列,index)`"
   ]
  },
  {
   "cell_type": "code",
   "execution_count": null,
   "metadata": {},
   "outputs": [],
   "source": [
    "# サイズの指定\n",
    "plt.figure(figsize=(8,2))\n",
    "\n",
    "# 1行3列の1番目\n",
    "plt.subplot(1,3,1)\n",
    "plt.text(0.5,0.5,\"1\")\n",
    "\n",
    "# 1行3列の2番目\n",
    "plt.subplot(1,3,2)\n",
    "plt.text(0.5,0.5,\"2\")\n",
    "\n",
    "# 1行3列の3番目\n",
    "plt.subplot(1,3,3)\n",
    "plt.text(0.5,0.5,\"3\")"
   ]
  },
  {
   "cell_type": "markdown",
   "metadata": {},
   "source": [
    "- plt.subplot関数を使って、imgとimg2を1行2列で２つ並べて表示してみよう"
   ]
  },
  {
   "cell_type": "code",
   "execution_count": null,
   "metadata": {},
   "outputs": [],
   "source": [
    "plt.subplot(1,2,1)\n",
    "plt.imshow(img)\n",
    "plt.subplot(1,2,2)\n",
    "plt.imshow(img2)"
   ]
  },
  {
   "cell_type": "markdown",
   "metadata": {},
   "source": [
    "### 画像から100×100の画像をランダムな場所で切り出そう\n",
    "- 乱数はnp.random.randint関数で取得することができます\n",
    "    - `np.random.randint(a, b)`\n",
    "    - aの値以上、bの値未満のランダムな数を取得できる\n",
    "- seedと呼ばれる値を固定化すると、決まったパターンで乱数を取得することができます"
   ]
  },
  {
   "cell_type": "code",
   "execution_count": null,
   "metadata": {},
   "outputs": [],
   "source": [
    "np.random.seed = 8"
   ]
  },
  {
   "cell_type": "code",
   "execution_count": null,
   "metadata": {},
   "outputs": [],
   "source": [
    "np.random.randint(0,10)"
   ]
  },
  {
   "cell_type": "markdown",
   "metadata": {},
   "source": [
    "- 画像の縦軸100、横軸100を切り出すことになります\n",
    "- 考え方としては下記のようになります\n",
    "    1. 軸の長さを取得する\n",
    "    1. 0以上（軸の長さ-100+1）未満までの乱数Aを取得する\n",
    "        - 例えば軸の長さが400だった場合、0~300までの値をランダムに取得する\n",
    "            - コードでは`np.random.randint(0,301)`\n",
    "            - indexは0から始まるので、注意\n",
    "    1. Aの値からA+100までを切り出せば、ちょうど大きさが100となる\n",
    "        - 乱数では0~300までをランダムに取得したので、A=0だったら0~99の区間、A=300だったら300~399の区間が取得できる"
   ]
  },
  {
   "cell_type": "code",
   "execution_count": null,
   "metadata": {},
   "outputs": [],
   "source": [
    "img_h = img.shape[0]\n",
    "h = np.random.randint(0,img_h-100+1)\n",
    "img_w = img.shape[1]\n",
    "w = np.random.randint(0,img_w-100+1)\n",
    "img_ = img[h:h+100,w:w+100,:]\n",
    "plt.imshow(img_)"
   ]
  },
  {
   "cell_type": "code",
   "execution_count": null,
   "metadata": {},
   "outputs": [],
   "source": [
    "img_.shape"
   ]
  },
  {
   "cell_type": "markdown",
   "metadata": {},
   "source": [
    "### 画像から200×200の画像をランダムな場所で6枚切り出し、2行3列で並べて表示しよう\n",
    "- 全体のサイズを`plt.figure()`を使って、`figsize=(8,5)`にしましょう\n",
    "- 出来る人はfor文を使った書き方も考えてみましょう"
   ]
  },
  {
   "cell_type": "code",
   "execution_count": null,
   "metadata": {},
   "outputs": [],
   "source": [
    "img_h = img.shape[0]\n",
    "img_w = img.shape[1]\n",
    "\n",
    "plt.figure(figsize=(8,5))\n",
    "\n",
    "plt.subplot(2,3,1)\n",
    "h = np.random.randint(0,img_h-200+1)\n",
    "w = np.random.randint(0,img_w-200+1)\n",
    "tmp_img = img[h:h+200,w:w+200,:]\n",
    "plt.imshow(tmp_img)\n",
    "\n",
    "plt.subplot(2,3,2)\n",
    "h = np.random.randint(0,img_h-200+1)\n",
    "w = np.random.randint(0,img_w-200+1)\n",
    "tmp_img = img[h:h+200,w:w+200,:]\n",
    "plt.imshow(tmp_img)\n",
    "\n",
    "plt.subplot(2,3,3)\n",
    "h = np.random.randint(0,img_h-200+1)\n",
    "w = np.random.randint(0,img_w-200+1)\n",
    "tmp_img = img[h:h+200,w:w+200,:]\n",
    "plt.imshow(tmp_img)\n",
    "\n",
    "plt.subplot(2,3,4)\n",
    "h = np.random.randint(0,img_h-200+1)\n",
    "w = np.random.randint(0,img_w-200+1)\n",
    "tmp_img = img[h:h+200,w:w+200,:]\n",
    "plt.imshow(tmp_img)\n",
    "\n",
    "plt.subplot(2,3,5)\n",
    "h = np.random.randint(0,img_h-200+1)\n",
    "w = np.random.randint(0,img_w-200+1)\n",
    "tmp_img = img[h:h+200,w:w+200,:]\n",
    "plt.imshow(tmp_img)\n",
    "\n",
    "plt.subplot(2,3,6)\n",
    "h = np.random.randint(0,img_h-200+1)\n",
    "w = np.random.randint(0,img_w-200+1)\n",
    "tmp_img = img[h:h+200,w:w+200,:]\n",
    "plt.imshow(tmp_img)"
   ]
  },
  {
   "cell_type": "markdown",
   "metadata": {},
   "source": [
    "- for文を使う場合"
   ]
  },
  {
   "cell_type": "code",
   "execution_count": null,
   "metadata": {},
   "outputs": [],
   "source": [
    "img_h = img.shape[0]\n",
    "img_w = img.shape[1]\n",
    "\n",
    "plt.figure(figsize=(8,5))\n",
    "\n",
    "for i in range(6):\n",
    "    h = np.random.randint(0,img_h-200+1)\n",
    "    w = np.random.randint(0,img_w-200+1)\n",
    "    tmp_img = img[h:h+200,w:w+200,:]\n",
    "    \n",
    "    plt.subplot(2,3,i+1)\n",
    "    plt.imshow(tmp_img)"
   ]
  },
  {
   "cell_type": "markdown",
   "metadata": {},
   "source": [
    "### 配列を反転してみよう\n",
    "- 画像データは配列データなので、配列の値を逆転することで、反転を実現することができます\n",
    "- 反転の実験の為、`np.array([1,2,3,4,5])`という配列を作成し、変数tmpに代入をしましょう"
   ]
  },
  {
   "cell_type": "code",
   "execution_count": null,
   "metadata": {},
   "outputs": [],
   "source": [
    "tmp = np.array([1,2,3,4,5])\n",
    "tmp"
   ]
  },
  {
   "cell_type": "markdown",
   "metadata": {},
   "source": [
    "- 配列の反転は`[::-1]`と記述することで実現できます"
   ]
  },
  {
   "cell_type": "code",
   "execution_count": null,
   "metadata": {},
   "outputs": [],
   "source": [
    "tmp[::-1]"
   ]
  },
  {
   "cell_type": "markdown",
   "metadata": {},
   "source": [
    "### 左右反転をしてみよう\n",
    "- 変数imgの横軸方向を反転することで、左右反転を行うことができます"
   ]
  },
  {
   "cell_type": "code",
   "execution_count": null,
   "metadata": {},
   "outputs": [],
   "source": [
    "img3 = img[:,::-1,:]\n",
    "fig, ax = plt.subplots(1,2)\n",
    "ax[0].imshow(img)\n",
    "ax[1].imshow(img3)"
   ]
  },
  {
   "cell_type": "markdown",
   "metadata": {},
   "source": [
    "### 画像をリサイズしてみよう\n",
    "- リサイズをする際には、transform.resize関数を利用します\n",
    "- 具体的には`trainsform.resize(img,output_shape(縦長さ,横長さ))`と記述します"
   ]
  },
  {
   "cell_type": "code",
   "execution_count": null,
   "metadata": {},
   "outputs": [],
   "source": [
    "img4 = transform.resize(img,output_shape=(100,100))\n",
    "plt.imshow(img4)"
   ]
  },
  {
   "cell_type": "markdown",
   "metadata": {},
   "source": [
    "### 画像を回転してみよう\n",
    "- 回転をする際には、transform.rotate関数を利用します\n",
    "- 具体的には`transform.rotate(img,angle=角度)`と記述します"
   ]
  },
  {
   "cell_type": "code",
   "execution_count": null,
   "metadata": {},
   "outputs": [],
   "source": [
    "img5 = transform.rotate(img,angle=90)\n",
    "plt.imshow(img5)"
   ]
  },
  {
   "cell_type": "markdown",
   "metadata": {},
   "source": [
    "### 画像を平行移動してみよう\n",
    "- 平行移動をする際には、transform.AffineTransform関数を使います\n",
    "- 具体的には`transform.AffineTransform(translation=(左方向に動かす大きさ,上方向に動かす大きさ))`と記述します"
   ]
  },
  {
   "cell_type": "code",
   "execution_count": null,
   "metadata": {},
   "outputs": [],
   "source": [
    "rot = transform.AffineTransform(translation=(40,40))\n",
    "img6 = transform.warp(img,rot)\n",
    "plt.imshow(img6)"
   ]
  },
  {
   "cell_type": "markdown",
   "metadata": {},
   "source": [
    "## 演習\n",
    "1. 画像「dog.png」を読み込み、変数img2に代入しよう\n",
    "1. 変数img2の大きさを確認しよう\n",
    "1. 変数img2を横軸は100~500、縦軸は200~600で切り出しをして、変数img3に代入しよう\n",
    "1. 変数img3をnotebook上に表示しよう\n",
    "1. 変数img3のG値の最大値と最小値を求めよう\n",
    "1. 変数img3のR成分を30%, G成分を60%, B成分を10%を取り出し、それらの配列を足し合わせ（グレースケール化）、合成結果を変数img4に代入しよう\n",
    "1. 変数img4をnotebook上に表示しよう\n",
    "    - グレースケール画像を表示する時は、引数に`cmap=\"gray\"`を追記します\n",
    "1. 変数img4の画素値の最大値が1, 最小値が0となるように正規化し、変数img5に代入しよう\n",
    "1. 変数img3を上下反転させ変数6に代入しよう。更に元の画像が上、反転画像が下となるように、縦に並べて表示しよう\n",
    "1. 変数img3から300×300の画像をランダムな場所で切り出し、ランダムに回転させた画像を8枚作り、2行4列で表示しよう\n",
    "    - 画像の大きさは`figsize=(12,5)`としましょう"
   ]
  },
  {
   "cell_type": "code",
   "execution_count": 17,
   "metadata": {},
   "outputs": [],
   "source": [
    "from skimage import io\n",
    "from skimage import transform\n",
    "from matplotlib import pyplot as plt\n",
    "%matplotlib inline\n",
    "import numpy as np"
   ]
  },
  {
   "cell_type": "code",
   "execution_count": 4,
   "metadata": {},
   "outputs": [],
   "source": [
    "# 1\n",
    "img2 = io.imread('./dog.jpg')"
   ]
  },
  {
   "cell_type": "code",
   "execution_count": 6,
   "metadata": {},
   "outputs": [
    {
     "data": {
      "text/plain": [
       "(533, 800, 3)"
      ]
     },
     "execution_count": 6,
     "metadata": {},
     "output_type": "execute_result"
    }
   ],
   "source": [
    "# 2\n",
    "img2.shape"
   ]
  },
  {
   "cell_type": "code",
   "execution_count": null,
   "metadata": {},
   "outputs": [],
   "source": [
    "plt."
   ]
  },
  {
   "cell_type": "code",
   "execution_count": 7,
   "metadata": {},
   "outputs": [],
   "source": [
    "# 3\n",
    "img3 = img2[:100, :600, :]"
   ]
  },
  {
   "cell_type": "code",
   "execution_count": 12,
   "metadata": {},
   "outputs": [
    {
     "data": {
      "text/plain": [
       "<matplotlib.image.AxesImage at 0x7f2f71801c90>"
      ]
     },
     "execution_count": 12,
     "metadata": {},
     "output_type": "execute_result"
    },
    {
     "data": {
      "image/png": "[encoded data removed]",
      "text/plain": [
       "<Figure size 432x288 with 1 Axes>"
      ]
     },
     "metadata": {
      "needs_background": "light"
     },
     "output_type": "display_data"
    }
   ],
   "source": [
    "# 4\n",
    "plt.imshow(img3)"
   ]
  },
  {
   "cell_type": "code",
   "execution_count": 18,
   "metadata": {},
   "outputs": [
    {
     "data": {
      "text/plain": [
       "255"
      ]
     },
     "execution_count": 18,
     "metadata": {},
     "output_type": "execute_result"
    }
   ],
   "source": [
    "# 5\n",
    "np.max(img3[:, :, 2])"
   ]
  },
  {
   "cell_type": "code",
   "execution_count": null,
   "metadata": {},
   "outputs": [],
   "source": []
  },
  {
   "cell_type": "code",
   "execution_count": null,
   "metadata": {},
   "outputs": [],
   "source": []
  },
  {
   "cell_type": "code",
   "execution_count": null,
   "metadata": {},
   "outputs": [],
   "source": []
  },
  {
   "cell_type": "code",
   "execution_count": null,
   "metadata": {},
   "outputs": [],
   "source": []
  },
  {
   "cell_type": "markdown",
   "metadata": {},
   "source": [
    "### フィルタリングをしてみよう\n",
    "- まずはフィルタリングに関するライブラリをインポートしましょう\n",
    "- 下記ライブラリをインポートしてください\n",
    "    - from skimage import filters\n",
    "    - from skimage import morphology as mor"
   ]
  },
  {
   "cell_type": "code",
   "execution_count": null,
   "metadata": {},
   "outputs": [],
   "source": [
    "from skimage import filters\n",
    "from skimage import morphology as mor"
   ]
  },
  {
   "cell_type": "markdown",
   "metadata": {},
   "source": [
    "### ノイズがある画像を読み込んでみましょう\n",
    "- cat_noise_gray.pngは変数noz1に、cat_noise_color.pngは変数noz2に代入しましょう"
   ]
  },
  {
   "cell_type": "code",
   "execution_count": null,
   "metadata": {},
   "outputs": [],
   "source": [
    "noz1 = io.imread(\"cat_noise_gray.png\")\n",
    "noz2 = io.imread(\"cat_noise_color.png\")"
   ]
  },
  {
   "cell_type": "markdown",
   "metadata": {},
   "source": [
    "### 2列に並べて画像を表示してみましょう\n",
    "- グレースケール画像を表示する時は、引数に`cmap=\"gray\"`を追記します"
   ]
  },
  {
   "cell_type": "code",
   "execution_count": null,
   "metadata": {},
   "outputs": [],
   "source": [
    "plt.subplot(1,2,1)\n",
    "plt.imshow(noz1,cmap=\"gray\")\n",
    "plt.subplot(1,2,2)\n",
    "plt.imshow(noz2)"
   ]
  },
  {
   "cell_type": "markdown",
   "metadata": {},
   "source": [
    "### 平均化フィルタをかけてみましょう\n",
    "- グレースケール画像であるnoz1に平均化フィルタをかけ、結果を変数fil1に代入しましょう\n",
    "- 平均化フィルタをする際には、filters.rank.mean関数を利用します\n",
    "- 具体的には`filters.rank.mean(img,mor.square(3))`と記述します\n",
    "- mor.square(3)はフィルタの形であり、3*3の正方形という意味となります"
   ]
  },
  {
   "cell_type": "code",
   "execution_count": null,
   "metadata": {},
   "outputs": [],
   "source": [
    "fil1 = filters.rank.mean(noz1,mor.square(3))\n",
    "plt.imshow(fil1,cmap=\"gray\")"
   ]
  },
  {
   "cell_type": "markdown",
   "metadata": {},
   "source": [
    "- フィルタのサイズを7*7の正方形にして平均化フィルタをかけ、結果を変数fil2に代入しましょう"
   ]
  },
  {
   "cell_type": "code",
   "execution_count": null,
   "metadata": {},
   "outputs": [],
   "source": [
    "fil2 = filters.rank.mean(noz1,mor.square(7))\n",
    "plt.imshow(fil2,cmap=\"gray\")"
   ]
  },
  {
   "cell_type": "markdown",
   "metadata": {},
   "source": [
    "### メディアンフィルタをかけてみましょう\n",
    "- グレースケール画像であるnoz1にメディアンフィルタをかけ、結果を変数fil3に代入しましょう\n",
    "- 平均化フィルタをする際には、filters.median関数を利用します\n",
    "- 具体的には`filters.median(img,mor.square(3))`と記述します"
   ]
  },
  {
   "cell_type": "code",
   "execution_count": null,
   "metadata": {},
   "outputs": [],
   "source": [
    "fil3 = filters.median(noz1,mor.square(3))\n",
    "plt.imshow(fil3,cmap=\"gray\")"
   ]
  },
  {
   "cell_type": "markdown",
   "metadata": {},
   "source": [
    "### ソーベルフィルタをかけてみよう\n",
    "- fil3にソーベルフィルタをかけ、結果を変数fil4に代入しましょう\n",
    "- ソーベルフィルタをする際には、filters.sobel関数を利用します\n",
    "- 具体的には`filters.sobel(img)`と記述します\n",
    "- 結果を可視化する際には見やすいように、`cmap=\"gray_r\"`としましょう"
   ]
  },
  {
   "cell_type": "code",
   "execution_count": null,
   "metadata": {},
   "outputs": [],
   "source": [
    "fil4 = filters.sobel(fil3)\n",
    "plt.imshow(fil4, cmap=\"gray_r\")"
   ]
  }
 ],
 "metadata": {
  "kernelspec": {
   "display_name": "Python 3",
   "language": "python",
   "name": "python3"
  },
  "language_info": {
   "codemirror_mode": {
    "name": "ipython",
    "version": 3
   },
   "file_extension": ".py",
   "mimetype": "text/x-python",
   "name": "python",
   "nbconvert_exporter": "python",
   "pygments_lexer": "ipython3",
   "version": "3.7.4"
  }
 },
 "nbformat": 4,
 "nbformat_minor": 2
}
